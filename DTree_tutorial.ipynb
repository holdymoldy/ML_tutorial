{
 "cells": [
  {
   "cell_type": "code",
   "execution_count": null,
   "metadata": {},
   "outputs": [],
   "source": [
    "# the first two lines install the necessary packages into this notebook environment\n",
    "# sklearn (scikit-learn) is a machine learning python package\n",
    "# matplotlib is a plotting package meant to mimic Matlab-style plots"
   ]
  },
  {
   "cell_type": "code",
   "execution_count": null,
   "metadata": {},
   "outputs": [],
   "source": [
    "pip install sklearn"
   ]
  },
  {
   "cell_type": "code",
   "execution_count": null,
   "metadata": {},
   "outputs": [],
   "source": [
    "pip install matplotlib"
   ]
  },
  {
   "cell_type": "code",
   "execution_count": null,
   "metadata": {},
   "outputs": [],
   "source": [
    "from sklearn.datasets import load_iris  # downloads the iris dataset, consisting of sepal length/width\n",
    "                                        # and petal length/width data of 3 different iris types (150 pts. total)\n",
    "from sklearn import tree                # imports the decision tree model\n",
    "import matplotlib.pyplot as plt"
   ]
  },
  {
   "cell_type": "code",
   "execution_count": null,
   "metadata": {},
   "outputs": [],
   "source": [
    "#  load the iris dataset\n",
    "X, y = load_iris(return_X_y=True)\n",
    "\n",
    "# if you're ever curious about the specifics of a function, type the function name with one or two '?' marks\n",
    "# for example:\n",
    "load_iris?\n",
    "\n",
    "# one '?' mark prints the documentation string\n",
    "# two '?' marks prints the entire function\n",
    "# note that this will only work in IPython or Jupyter notebook environments"
   ]
  },
  {
   "cell_type": "code",
   "execution_count": null,
   "metadata": {},
   "outputs": [],
   "source": [
    "criterion = \"entropy\"  # criteria to split nodes\n",
    "max_depth = 3          # maximum depth of the tree\n",
    "\n",
    "dtree = tree.DecisionTreeClassifier(criterion=criterion, max_depth = max_depth)"
   ]
  },
  {
   "cell_type": "code",
   "execution_count": null,
   "metadata": {},
   "outputs": [],
   "source": [
    "plt.figure(figsize=[18,18])  # control size of the output window\n",
    "output = tree.plot_tree(dtree) "
   ]
  },
  {
   "cell_type": "code",
   "execution_count": null,
   "metadata": {},
   "outputs": [],
   "source": [
    "# this block prints the tree leaves\n",
    "iris = load_iris()  # re-load the data in a different format\n",
    "r = tree.export_text(dtree, feature_names=iris['feature_names'])"
   ]
  }
 ],
 "metadata": {
  "kernelspec": {
   "display_name": "Python 2",
   "language": "python",
   "name": "python2"
  },
  "language_info": {
   "codemirror_mode": {
    "name": "ipython",
    "version": 2
   },
   "file_extension": ".py",
   "mimetype": "text/x-python",
   "name": "python",
   "nbconvert_exporter": "python",
   "pygments_lexer": "ipython2",
   "version": "2.7.15"
  }
 },
 "nbformat": 4,
 "nbformat_minor": 2
}
